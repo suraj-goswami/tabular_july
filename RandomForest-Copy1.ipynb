{
 "cells": [
  {
   "cell_type": "code",
   "execution_count": 1,
   "id": "2678caec",
   "metadata": {},
   "outputs": [
    {
     "name": "stderr",
     "output_type": "stream",
     "text": [
      "c:\\users\\suraj\\anaconda3\\envs\\tabular_july\\lib\\site-packages\\numpy\\_distributor_init.py:32: UserWarning: loaded more than 1 DLL from .libs:\n",
      "c:\\users\\suraj\\anaconda3\\envs\\tabular_july\\lib\\site-packages\\numpy\\.libs\\libopenblas.GK7GX5KEQ4F6UYO3P26ULGBQYHGQO7J4.gfortran-win_amd64.dll\n",
      "c:\\users\\suraj\\anaconda3\\envs\\tabular_july\\lib\\site-packages\\numpy\\.libs\\libopenblas.WCDJNK7YVMPZQ2ME2ZZHJJRJ3JIKNDB7.gfortran-win_amd64.dll\n",
      "  stacklevel=1)\n"
     ]
    }
   ],
   "source": [
    "import pandas as pd\n",
    "import numpy as np\n",
    "import matplotlib.pyplot as plt\n",
    "%matplotlib inline"
   ]
  },
  {
   "cell_type": "code",
   "execution_count": 55,
   "id": "69240608",
   "metadata": {},
   "outputs": [],
   "source": [
    "df_train= pd.read_csv(\"train.csv\",index_col=[0], parse_dates=[0])\n",
    "df_test= pd.read_csv(\"test.csv\",index_col=[0], parse_dates=[0])"
   ]
  },
  {
   "cell_type": "code",
   "execution_count": 56,
   "id": "be602f8c",
   "metadata": {},
   "outputs": [],
   "source": [
    "df_train.drop(df_train.tail(1).index,inplace=True)"
   ]
  },
  {
   "cell_type": "code",
   "execution_count": 4,
   "id": "e530d9f7",
   "metadata": {},
   "outputs": [
    {
     "data": {
      "text/plain": [
       "(7110, 11)"
      ]
     },
     "execution_count": 4,
     "metadata": {},
     "output_type": "execute_result"
    }
   ],
   "source": [
    "df_train.shape"
   ]
  },
  {
   "cell_type": "code",
   "execution_count": 57,
   "id": "c43c8103",
   "metadata": {},
   "outputs": [],
   "source": [
    "df = pd.concat([df_train,df_test])"
   ]
  },
  {
   "cell_type": "code",
   "execution_count": 7,
   "id": "024abe63",
   "metadata": {},
   "outputs": [
    {
     "data": {
      "text/plain": [
       "(9357, 11)"
      ]
     },
     "execution_count": 7,
     "metadata": {},
     "output_type": "execute_result"
    }
   ],
   "source": [
    "df.shape"
   ]
  },
  {
   "cell_type": "code",
   "execution_count": null,
   "id": "cc3bc1d6",
   "metadata": {},
   "outputs": [],
   "source": []
  },
  {
   "cell_type": "code",
   "execution_count": null,
   "id": "a84115c2",
   "metadata": {},
   "outputs": [],
   "source": []
  },
  {
   "cell_type": "code",
   "execution_count": null,
   "id": "0b74c6c3",
   "metadata": {},
   "outputs": [],
   "source": [
    "df_train.info()"
   ]
  },
  {
   "cell_type": "code",
   "execution_count": 15,
   "id": "d2559caa",
   "metadata": {},
   "outputs": [],
   "source": [
    "def create_ml_features(df):   \n",
    "    \n",
    "    df['date'] = df.index\n",
    "    df['hour'] = df['date'].dt.hour\n",
    "    df['dayofweek'] = df['date'].dt.dayofweek\n",
    "    df['quarter'] = df['date'].dt.quarter\n",
    "    df['month'] = df['date'].dt.month\n",
    "    df['year'] = df['date'].dt.year\n",
    "    df['dayofyear'] = df['date'].dt.dayofyear\n",
    "    df['dayofmonth'] = df['date'].dt.day\n",
    "    df['weekofyear'] = df['date'].dt.weekofyear\n",
    "    df[\"working_hours\"] =  df[\"hour\"].isin(np.arange(8, 21, 1)).astype(\"int\")\n",
    "    df[\"is_weekend\"] = (df[\"date\"].dt.dayofweek >= 5).astype(\"int\")\n",
    "    \n",
    "    df[\"SMC\"] = (df[\"absolute_humidity\"] * 100) / df[\"relative_humidity\"]\n",
    "    \n",
    "    # A list of features to generate shifted and lagged values for\n",
    "    shift_features = [\"deg_C\", \"absolute_humidity\", \"relative_humidity\",\n",
    "                      \"sensor_1\", \"sensor_2\", \"sensor_3\", \"sensor_4\", \"sensor_5\"]\n",
    "    # Amounts of hour shifts and lags\n",
    "    shifts = [1, 3, 6, 12, 24]\n",
    "    \n",
    "    for feature in shift_features:\n",
    "        for shift in shifts:\n",
    "            df[feature+\"-\"+str(shift)+\"abs_shfit\"] = df[feature] - df[feature].shift(periods=shift, fill_value=0)\n",
    "            df[feature+\"+\"+str(shift)+\"abs_shfit\"] = df[feature] - df[feature].shift(periods=-shift, fill_value=0)\n",
    "            df[feature+\"-\"+str(shift)+\"prc_shfit\"] = (df[feature] / df[feature].shift(periods=shift, fill_value=0)) - 1\n",
    "            df[feature+\"+\"+str(shift)+\"prc_shfit\"] = (df[feature] / df[feature].shift(periods=-shift, fill_value=0)) - 1\n",
    "\n",
    "    # Replacing infinity values as a result of devision by zero at the end of a dataset\n",
    "    df.replace(to_replace=np.inf, value=0, inplace=True)\n",
    "    \n",
    "    \n",
    "    return df.drop('date',axis=1)"
   ]
  },
  {
   "cell_type": "code",
   "execution_count": 16,
   "id": "48f98dac",
   "metadata": {},
   "outputs": [
    {
     "name": "stderr",
     "output_type": "stream",
     "text": [
      "c:\\users\\suraj\\anaconda3\\envs\\tabular_july\\lib\\site-packages\\ipykernel_launcher.py:11: FutureWarning: Series.dt.weekofyear and Series.dt.week have been deprecated.  Please use Series.dt.isocalendar().week instead.\n",
      "  # This is added back by InteractiveShellApp.init_path()\n",
      "c:\\users\\suraj\\anaconda3\\envs\\tabular_july\\lib\\site-packages\\ipykernel_launcher.py:27: PerformanceWarning: DataFrame is highly fragmented.  This is usually the result of calling `frame.insert` many times, which has poor performance.  Consider using pd.concat instead.  To get a de-fragmented frame, use `newframe = frame.copy()`\n",
      "c:\\users\\suraj\\anaconda3\\envs\\tabular_july\\lib\\site-packages\\ipykernel_launcher.py:28: PerformanceWarning: DataFrame is highly fragmented.  This is usually the result of calling `frame.insert` many times, which has poor performance.  Consider using pd.concat instead.  To get a de-fragmented frame, use `newframe = frame.copy()`\n",
      "c:\\users\\suraj\\anaconda3\\envs\\tabular_july\\lib\\site-packages\\ipykernel_launcher.py:25: PerformanceWarning: DataFrame is highly fragmented.  This is usually the result of calling `frame.insert` many times, which has poor performance.  Consider using pd.concat instead.  To get a de-fragmented frame, use `newframe = frame.copy()`\n",
      "c:\\users\\suraj\\anaconda3\\envs\\tabular_july\\lib\\site-packages\\ipykernel_launcher.py:26: PerformanceWarning: DataFrame is highly fragmented.  This is usually the result of calling `frame.insert` many times, which has poor performance.  Consider using pd.concat instead.  To get a de-fragmented frame, use `newframe = frame.copy()`\n"
     ]
    }
   ],
   "source": [
    "df1= create_ml_features(df.copy())"
   ]
  },
  {
   "cell_type": "code",
   "execution_count": 58,
   "id": "b4ed7117",
   "metadata": {},
   "outputs": [],
   "source": [
    "df1= df.copy()"
   ]
  },
  {
   "cell_type": "code",
   "execution_count": 59,
   "id": "306711d8",
   "metadata": {},
   "outputs": [
    {
     "data": {
      "text/plain": [
       "(9357, 11)"
      ]
     },
     "execution_count": 59,
     "metadata": {},
     "output_type": "execute_result"
    }
   ],
   "source": [
    "df1.shape"
   ]
  },
  {
   "cell_type": "code",
   "execution_count": 60,
   "id": "3a0672cc",
   "metadata": {},
   "outputs": [],
   "source": [
    "df1.reset_index(drop=False, inplace=True)"
   ]
  },
  {
   "cell_type": "code",
   "execution_count": 61,
   "id": "a38c0702",
   "metadata": {},
   "outputs": [],
   "source": [
    "df1['date_time'] = df1['date_time'].view('datetime64[ns]').view(np.int64)/10**9"
   ]
  },
  {
   "cell_type": "code",
   "execution_count": 62,
   "id": "d9b27f0d",
   "metadata": {},
   "outputs": [
    {
     "data": {
      "text/plain": [
       "(9357, 12)"
      ]
     },
     "execution_count": 62,
     "metadata": {},
     "output_type": "execute_result"
    }
   ],
   "source": [
    "df1.shape"
   ]
  },
  {
   "cell_type": "code",
   "execution_count": 21,
   "id": "906739ef",
   "metadata": {},
   "outputs": [
    {
     "data": {
      "text/html": [
       "<div>\n",
       "<style scoped>\n",
       "    .dataframe tbody tr th:only-of-type {\n",
       "        vertical-align: middle;\n",
       "    }\n",
       "\n",
       "    .dataframe tbody tr th {\n",
       "        vertical-align: top;\n",
       "    }\n",
       "\n",
       "    .dataframe thead th {\n",
       "        text-align: right;\n",
       "    }\n",
       "</style>\n",
       "<table border=\"1\" class=\"dataframe\">\n",
       "  <thead>\n",
       "    <tr style=\"text-align: right;\">\n",
       "      <th></th>\n",
       "      <th>date_time</th>\n",
       "      <th>deg_C</th>\n",
       "      <th>relative_humidity</th>\n",
       "      <th>absolute_humidity</th>\n",
       "      <th>sensor_1</th>\n",
       "      <th>sensor_2</th>\n",
       "      <th>sensor_3</th>\n",
       "      <th>sensor_4</th>\n",
       "      <th>sensor_5</th>\n",
       "      <th>target_carbon_monoxide</th>\n",
       "      <th>...</th>\n",
       "      <th>sensor_5-6prc_shfit</th>\n",
       "      <th>sensor_5+6prc_shfit</th>\n",
       "      <th>sensor_5-12abs_shfit</th>\n",
       "      <th>sensor_5+12abs_shfit</th>\n",
       "      <th>sensor_5-12prc_shfit</th>\n",
       "      <th>sensor_5+12prc_shfit</th>\n",
       "      <th>sensor_5-24abs_shfit</th>\n",
       "      <th>sensor_5+24abs_shfit</th>\n",
       "      <th>sensor_5-24prc_shfit</th>\n",
       "      <th>sensor_5+24prc_shfit</th>\n",
       "    </tr>\n",
       "  </thead>\n",
       "  <tbody>\n",
       "    <tr>\n",
       "      <th>0</th>\n",
       "      <td>1.268244e+09</td>\n",
       "      <td>13.1</td>\n",
       "      <td>46.0</td>\n",
       "      <td>0.7578</td>\n",
       "      <td>1387.2</td>\n",
       "      <td>1087.8</td>\n",
       "      <td>1056.0</td>\n",
       "      <td>1742.8</td>\n",
       "      <td>1293.4</td>\n",
       "      <td>2.5</td>\n",
       "      <td>...</td>\n",
       "      <td>0.000000</td>\n",
       "      <td>0.680613</td>\n",
       "      <td>1293.4</td>\n",
       "      <td>797.8</td>\n",
       "      <td>0.000000</td>\n",
       "      <td>1.609766</td>\n",
       "      <td>1293.4</td>\n",
       "      <td>-73.3</td>\n",
       "      <td>0.000000</td>\n",
       "      <td>-0.053633</td>\n",
       "    </tr>\n",
       "    <tr>\n",
       "      <th>1</th>\n",
       "      <td>1.268248e+09</td>\n",
       "      <td>13.2</td>\n",
       "      <td>45.3</td>\n",
       "      <td>0.7255</td>\n",
       "      <td>1279.1</td>\n",
       "      <td>888.2</td>\n",
       "      <td>1197.5</td>\n",
       "      <td>1449.9</td>\n",
       "      <td>1010.9</td>\n",
       "      <td>2.1</td>\n",
       "      <td>...</td>\n",
       "      <td>0.000000</td>\n",
       "      <td>0.413056</td>\n",
       "      <td>1010.9</td>\n",
       "      <td>324.7</td>\n",
       "      <td>0.000000</td>\n",
       "      <td>0.473186</td>\n",
       "      <td>1010.9</td>\n",
       "      <td>-573.8</td>\n",
       "      <td>0.000000</td>\n",
       "      <td>-0.362087</td>\n",
       "    </tr>\n",
       "    <tr>\n",
       "      <th>2</th>\n",
       "      <td>1.268251e+09</td>\n",
       "      <td>12.6</td>\n",
       "      <td>56.2</td>\n",
       "      <td>0.7502</td>\n",
       "      <td>1331.9</td>\n",
       "      <td>929.6</td>\n",
       "      <td>1060.2</td>\n",
       "      <td>1586.1</td>\n",
       "      <td>1117.0</td>\n",
       "      <td>2.2</td>\n",
       "      <td>...</td>\n",
       "      <td>0.000000</td>\n",
       "      <td>0.699635</td>\n",
       "      <td>1117.0</td>\n",
       "      <td>70.1</td>\n",
       "      <td>0.000000</td>\n",
       "      <td>0.066960</td>\n",
       "      <td>1117.0</td>\n",
       "      <td>-421.2</td>\n",
       "      <td>0.000000</td>\n",
       "      <td>-0.273827</td>\n",
       "    </tr>\n",
       "    <tr>\n",
       "      <th>3</th>\n",
       "      <td>1.268255e+09</td>\n",
       "      <td>11.0</td>\n",
       "      <td>62.4</td>\n",
       "      <td>0.7867</td>\n",
       "      <td>1321.0</td>\n",
       "      <td>929.0</td>\n",
       "      <td>1102.9</td>\n",
       "      <td>1536.5</td>\n",
       "      <td>1263.2</td>\n",
       "      <td>2.2</td>\n",
       "      <td>...</td>\n",
       "      <td>0.000000</td>\n",
       "      <td>1.572709</td>\n",
       "      <td>1263.2</td>\n",
       "      <td>194.1</td>\n",
       "      <td>0.000000</td>\n",
       "      <td>0.181555</td>\n",
       "      <td>1263.2</td>\n",
       "      <td>42.4</td>\n",
       "      <td>0.000000</td>\n",
       "      <td>0.034731</td>\n",
       "    </tr>\n",
       "    <tr>\n",
       "      <th>4</th>\n",
       "      <td>1.268258e+09</td>\n",
       "      <td>11.9</td>\n",
       "      <td>59.0</td>\n",
       "      <td>0.7888</td>\n",
       "      <td>1272.0</td>\n",
       "      <td>852.7</td>\n",
       "      <td>1180.9</td>\n",
       "      <td>1415.5</td>\n",
       "      <td>1132.2</td>\n",
       "      <td>1.5</td>\n",
       "      <td>...</td>\n",
       "      <td>0.000000</td>\n",
       "      <td>1.623262</td>\n",
       "      <td>1132.2</td>\n",
       "      <td>332.4</td>\n",
       "      <td>0.000000</td>\n",
       "      <td>0.415604</td>\n",
       "      <td>1132.2</td>\n",
       "      <td>319.4</td>\n",
       "      <td>0.000000</td>\n",
       "      <td>0.392963</td>\n",
       "    </tr>\n",
       "    <tr>\n",
       "      <th>...</th>\n",
       "      <td>...</td>\n",
       "      <td>...</td>\n",
       "      <td>...</td>\n",
       "      <td>...</td>\n",
       "      <td>...</td>\n",
       "      <td>...</td>\n",
       "      <td>...</td>\n",
       "      <td>...</td>\n",
       "      <td>...</td>\n",
       "      <td>...</td>\n",
       "      <td>...</td>\n",
       "      <td>...</td>\n",
       "      <td>...</td>\n",
       "      <td>...</td>\n",
       "      <td>...</td>\n",
       "      <td>...</td>\n",
       "      <td>...</td>\n",
       "      <td>...</td>\n",
       "      <td>...</td>\n",
       "      <td>...</td>\n",
       "      <td>...</td>\n",
       "    </tr>\n",
       "    <tr>\n",
       "      <th>9352</th>\n",
       "      <td>1.301911e+09</td>\n",
       "      <td>23.2</td>\n",
       "      <td>28.7</td>\n",
       "      <td>0.7568</td>\n",
       "      <td>1340.3</td>\n",
       "      <td>1023.9</td>\n",
       "      <td>522.8</td>\n",
       "      <td>1374.0</td>\n",
       "      <td>1659.8</td>\n",
       "      <td>NaN</td>\n",
       "      <td>...</td>\n",
       "      <td>2.649516</td>\n",
       "      <td>0.000000</td>\n",
       "      <td>615.4</td>\n",
       "      <td>1659.8</td>\n",
       "      <td>0.589238</td>\n",
       "      <td>0.000000</td>\n",
       "      <td>1022.3</td>\n",
       "      <td>1659.8</td>\n",
       "      <td>1.603608</td>\n",
       "      <td>0.000000</td>\n",
       "    </tr>\n",
       "    <tr>\n",
       "      <th>9353</th>\n",
       "      <td>1.301915e+09</td>\n",
       "      <td>24.5</td>\n",
       "      <td>22.5</td>\n",
       "      <td>0.7119</td>\n",
       "      <td>1232.8</td>\n",
       "      <td>955.1</td>\n",
       "      <td>616.1</td>\n",
       "      <td>1226.1</td>\n",
       "      <td>1269.0</td>\n",
       "      <td>NaN</td>\n",
       "      <td>...</td>\n",
       "      <td>1.311054</td>\n",
       "      <td>0.000000</td>\n",
       "      <td>157.1</td>\n",
       "      <td>1269.0</td>\n",
       "      <td>0.141290</td>\n",
       "      <td>0.000000</td>\n",
       "      <td>661.0</td>\n",
       "      <td>1269.0</td>\n",
       "      <td>1.087171</td>\n",
       "      <td>0.000000</td>\n",
       "    </tr>\n",
       "    <tr>\n",
       "      <th>9354</th>\n",
       "      <td>1.301918e+09</td>\n",
       "      <td>26.6</td>\n",
       "      <td>19.0</td>\n",
       "      <td>0.6406</td>\n",
       "      <td>1187.7</td>\n",
       "      <td>1052.4</td>\n",
       "      <td>572.8</td>\n",
       "      <td>1253.4</td>\n",
       "      <td>1081.1</td>\n",
       "      <td>NaN</td>\n",
       "      <td>...</td>\n",
       "      <td>0.284577</td>\n",
       "      <td>0.000000</td>\n",
       "      <td>232.5</td>\n",
       "      <td>1081.1</td>\n",
       "      <td>0.273981</td>\n",
       "      <td>0.000000</td>\n",
       "      <td>418.5</td>\n",
       "      <td>1081.1</td>\n",
       "      <td>0.631603</td>\n",
       "      <td>0.000000</td>\n",
       "    </tr>\n",
       "    <tr>\n",
       "      <th>9355</th>\n",
       "      <td>1.301922e+09</td>\n",
       "      <td>29.1</td>\n",
       "      <td>12.7</td>\n",
       "      <td>0.5139</td>\n",
       "      <td>1053.2</td>\n",
       "      <td>1009.0</td>\n",
       "      <td>702.0</td>\n",
       "      <td>1009.8</td>\n",
       "      <td>808.5</td>\n",
       "      <td>NaN</td>\n",
       "      <td>...</td>\n",
       "      <td>-0.466442</td>\n",
       "      <td>0.000000</td>\n",
       "      <td>222.5</td>\n",
       "      <td>808.5</td>\n",
       "      <td>0.379693</td>\n",
       "      <td>0.000000</td>\n",
       "      <td>366.2</td>\n",
       "      <td>808.5</td>\n",
       "      <td>0.827945</td>\n",
       "      <td>0.000000</td>\n",
       "    </tr>\n",
       "    <tr>\n",
       "      <th>9356</th>\n",
       "      <td>1.301926e+09</td>\n",
       "      <td>27.9</td>\n",
       "      <td>13.5</td>\n",
       "      <td>0.5028</td>\n",
       "      <td>1124.6</td>\n",
       "      <td>1078.4</td>\n",
       "      <td>608.2</td>\n",
       "      <td>1061.3</td>\n",
       "      <td>816.0</td>\n",
       "      <td>NaN</td>\n",
       "      <td>...</td>\n",
       "      <td>-0.511640</td>\n",
       "      <td>0.000000</td>\n",
       "      <td>214.4</td>\n",
       "      <td>816.0</td>\n",
       "      <td>0.356383</td>\n",
       "      <td>0.000000</td>\n",
       "      <td>357.0</td>\n",
       "      <td>816.0</td>\n",
       "      <td>0.777778</td>\n",
       "      <td>0.000000</td>\n",
       "    </tr>\n",
       "  </tbody>\n",
       "</table>\n",
       "<p>9357 rows × 183 columns</p>\n",
       "</div>"
      ],
      "text/plain": [
       "         date_time  deg_C  relative_humidity  absolute_humidity  sensor_1  \\\n",
       "0     1.268244e+09   13.1               46.0             0.7578    1387.2   \n",
       "1     1.268248e+09   13.2               45.3             0.7255    1279.1   \n",
       "2     1.268251e+09   12.6               56.2             0.7502    1331.9   \n",
       "3     1.268255e+09   11.0               62.4             0.7867    1321.0   \n",
       "4     1.268258e+09   11.9               59.0             0.7888    1272.0   \n",
       "...            ...    ...                ...                ...       ...   \n",
       "9352  1.301911e+09   23.2               28.7             0.7568    1340.3   \n",
       "9353  1.301915e+09   24.5               22.5             0.7119    1232.8   \n",
       "9354  1.301918e+09   26.6               19.0             0.6406    1187.7   \n",
       "9355  1.301922e+09   29.1               12.7             0.5139    1053.2   \n",
       "9356  1.301926e+09   27.9               13.5             0.5028    1124.6   \n",
       "\n",
       "      sensor_2  sensor_3  sensor_4  sensor_5  target_carbon_monoxide  ...  \\\n",
       "0       1087.8    1056.0    1742.8    1293.4                     2.5  ...   \n",
       "1        888.2    1197.5    1449.9    1010.9                     2.1  ...   \n",
       "2        929.6    1060.2    1586.1    1117.0                     2.2  ...   \n",
       "3        929.0    1102.9    1536.5    1263.2                     2.2  ...   \n",
       "4        852.7    1180.9    1415.5    1132.2                     1.5  ...   \n",
       "...        ...       ...       ...       ...                     ...  ...   \n",
       "9352    1023.9     522.8    1374.0    1659.8                     NaN  ...   \n",
       "9353     955.1     616.1    1226.1    1269.0                     NaN  ...   \n",
       "9354    1052.4     572.8    1253.4    1081.1                     NaN  ...   \n",
       "9355    1009.0     702.0    1009.8     808.5                     NaN  ...   \n",
       "9356    1078.4     608.2    1061.3     816.0                     NaN  ...   \n",
       "\n",
       "      sensor_5-6prc_shfit  sensor_5+6prc_shfit  sensor_5-12abs_shfit  \\\n",
       "0                0.000000             0.680613                1293.4   \n",
       "1                0.000000             0.413056                1010.9   \n",
       "2                0.000000             0.699635                1117.0   \n",
       "3                0.000000             1.572709                1263.2   \n",
       "4                0.000000             1.623262                1132.2   \n",
       "...                   ...                  ...                   ...   \n",
       "9352             2.649516             0.000000                 615.4   \n",
       "9353             1.311054             0.000000                 157.1   \n",
       "9354             0.284577             0.000000                 232.5   \n",
       "9355            -0.466442             0.000000                 222.5   \n",
       "9356            -0.511640             0.000000                 214.4   \n",
       "\n",
       "      sensor_5+12abs_shfit  sensor_5-12prc_shfit  sensor_5+12prc_shfit  \\\n",
       "0                    797.8              0.000000              1.609766   \n",
       "1                    324.7              0.000000              0.473186   \n",
       "2                     70.1              0.000000              0.066960   \n",
       "3                    194.1              0.000000              0.181555   \n",
       "4                    332.4              0.000000              0.415604   \n",
       "...                    ...                   ...                   ...   \n",
       "9352                1659.8              0.589238              0.000000   \n",
       "9353                1269.0              0.141290              0.000000   \n",
       "9354                1081.1              0.273981              0.000000   \n",
       "9355                 808.5              0.379693              0.000000   \n",
       "9356                 816.0              0.356383              0.000000   \n",
       "\n",
       "      sensor_5-24abs_shfit  sensor_5+24abs_shfit  sensor_5-24prc_shfit  \\\n",
       "0                   1293.4                 -73.3              0.000000   \n",
       "1                   1010.9                -573.8              0.000000   \n",
       "2                   1117.0                -421.2              0.000000   \n",
       "3                   1263.2                  42.4              0.000000   \n",
       "4                   1132.2                 319.4              0.000000   \n",
       "...                    ...                   ...                   ...   \n",
       "9352                1022.3                1659.8              1.603608   \n",
       "9353                 661.0                1269.0              1.087171   \n",
       "9354                 418.5                1081.1              0.631603   \n",
       "9355                 366.2                 808.5              0.827945   \n",
       "9356                 357.0                 816.0              0.777778   \n",
       "\n",
       "      sensor_5+24prc_shfit  \n",
       "0                -0.053633  \n",
       "1                -0.362087  \n",
       "2                -0.273827  \n",
       "3                 0.034731  \n",
       "4                 0.392963  \n",
       "...                    ...  \n",
       "9352              0.000000  \n",
       "9353              0.000000  \n",
       "9354              0.000000  \n",
       "9355              0.000000  \n",
       "9356              0.000000  \n",
       "\n",
       "[9357 rows x 183 columns]"
      ]
     },
     "execution_count": 21,
     "metadata": {},
     "output_type": "execute_result"
    }
   ],
   "source": [
    "df1"
   ]
  },
  {
   "cell_type": "code",
   "execution_count": 63,
   "id": "783f49b7",
   "metadata": {},
   "outputs": [],
   "source": [
    "X_train= df1.iloc[:7110,:]\n",
    "X_test = df1.iloc[7110:,:]\n",
    "y = df1[['target_carbon_monoxide', 'target_benzene', 'target_nitrogen_oxides']]"
   ]
  },
  {
   "cell_type": "code",
   "execution_count": 64,
   "id": "500a97bd",
   "metadata": {},
   "outputs": [
    {
     "name": "stderr",
     "output_type": "stream",
     "text": [
      "c:\\users\\suraj\\anaconda3\\envs\\tabular_july\\lib\\site-packages\\pandas\\core\\frame.py:4908: SettingWithCopyWarning: \n",
      "A value is trying to be set on a copy of a slice from a DataFrame\n",
      "\n",
      "See the caveats in the documentation: https://pandas.pydata.org/pandas-docs/stable/user_guide/indexing.html#returning-a-view-versus-a-copy\n",
      "  errors=errors,\n"
     ]
    }
   ],
   "source": [
    "X_train.drop(['target_carbon_monoxide', 'target_benzene', 'target_nitrogen_oxides'],axis=1,inplace=True)\n",
    "X_test.drop(['target_carbon_monoxide', 'target_benzene', 'target_nitrogen_oxides'],axis=1,inplace=True)"
   ]
  },
  {
   "cell_type": "code",
   "execution_count": 65,
   "id": "8e9e861d",
   "metadata": {},
   "outputs": [],
   "source": [
    "y_train = y[:7110].copy()"
   ]
  },
  {
   "cell_type": "code",
   "execution_count": 66,
   "id": "4242d701",
   "metadata": {},
   "outputs": [
    {
     "data": {
      "text/plain": [
       "(7110, 3)"
      ]
     },
     "execution_count": 66,
     "metadata": {},
     "output_type": "execute_result"
    }
   ],
   "source": [
    "y_train.shape"
   ]
  },
  {
   "cell_type": "code",
   "execution_count": 67,
   "id": "7d19a7be",
   "metadata": {},
   "outputs": [
    {
     "data": {
      "text/html": [
       "<div>\n",
       "<style scoped>\n",
       "    .dataframe tbody tr th:only-of-type {\n",
       "        vertical-align: middle;\n",
       "    }\n",
       "\n",
       "    .dataframe tbody tr th {\n",
       "        vertical-align: top;\n",
       "    }\n",
       "\n",
       "    .dataframe thead th {\n",
       "        text-align: right;\n",
       "    }\n",
       "</style>\n",
       "<table border=\"1\" class=\"dataframe\">\n",
       "  <thead>\n",
       "    <tr style=\"text-align: right;\">\n",
       "      <th></th>\n",
       "      <th>date_time</th>\n",
       "      <th>deg_C</th>\n",
       "      <th>relative_humidity</th>\n",
       "      <th>absolute_humidity</th>\n",
       "      <th>sensor_1</th>\n",
       "      <th>sensor_2</th>\n",
       "      <th>sensor_3</th>\n",
       "      <th>sensor_4</th>\n",
       "      <th>sensor_5</th>\n",
       "    </tr>\n",
       "  </thead>\n",
       "  <tbody>\n",
       "    <tr>\n",
       "      <th>0</th>\n",
       "      <td>1.268244e+09</td>\n",
       "      <td>13.1</td>\n",
       "      <td>46.0</td>\n",
       "      <td>0.7578</td>\n",
       "      <td>1387.2</td>\n",
       "      <td>1087.8</td>\n",
       "      <td>1056.0</td>\n",
       "      <td>1742.8</td>\n",
       "      <td>1293.4</td>\n",
       "    </tr>\n",
       "    <tr>\n",
       "      <th>1</th>\n",
       "      <td>1.268248e+09</td>\n",
       "      <td>13.2</td>\n",
       "      <td>45.3</td>\n",
       "      <td>0.7255</td>\n",
       "      <td>1279.1</td>\n",
       "      <td>888.2</td>\n",
       "      <td>1197.5</td>\n",
       "      <td>1449.9</td>\n",
       "      <td>1010.9</td>\n",
       "    </tr>\n",
       "    <tr>\n",
       "      <th>2</th>\n",
       "      <td>1.268251e+09</td>\n",
       "      <td>12.6</td>\n",
       "      <td>56.2</td>\n",
       "      <td>0.7502</td>\n",
       "      <td>1331.9</td>\n",
       "      <td>929.6</td>\n",
       "      <td>1060.2</td>\n",
       "      <td>1586.1</td>\n",
       "      <td>1117.0</td>\n",
       "    </tr>\n",
       "    <tr>\n",
       "      <th>3</th>\n",
       "      <td>1.268255e+09</td>\n",
       "      <td>11.0</td>\n",
       "      <td>62.4</td>\n",
       "      <td>0.7867</td>\n",
       "      <td>1321.0</td>\n",
       "      <td>929.0</td>\n",
       "      <td>1102.9</td>\n",
       "      <td>1536.5</td>\n",
       "      <td>1263.2</td>\n",
       "    </tr>\n",
       "    <tr>\n",
       "      <th>4</th>\n",
       "      <td>1.268258e+09</td>\n",
       "      <td>11.9</td>\n",
       "      <td>59.0</td>\n",
       "      <td>0.7888</td>\n",
       "      <td>1272.0</td>\n",
       "      <td>852.7</td>\n",
       "      <td>1180.9</td>\n",
       "      <td>1415.5</td>\n",
       "      <td>1132.2</td>\n",
       "    </tr>\n",
       "  </tbody>\n",
       "</table>\n",
       "</div>"
      ],
      "text/plain": [
       "      date_time  deg_C  relative_humidity  absolute_humidity  sensor_1  \\\n",
       "0  1.268244e+09   13.1               46.0             0.7578    1387.2   \n",
       "1  1.268248e+09   13.2               45.3             0.7255    1279.1   \n",
       "2  1.268251e+09   12.6               56.2             0.7502    1331.9   \n",
       "3  1.268255e+09   11.0               62.4             0.7867    1321.0   \n",
       "4  1.268258e+09   11.9               59.0             0.7888    1272.0   \n",
       "\n",
       "   sensor_2  sensor_3  sensor_4  sensor_5  \n",
       "0    1087.8    1056.0    1742.8    1293.4  \n",
       "1     888.2    1197.5    1449.9    1010.9  \n",
       "2     929.6    1060.2    1586.1    1117.0  \n",
       "3     929.0    1102.9    1536.5    1263.2  \n",
       "4     852.7    1180.9    1415.5    1132.2  "
      ]
     },
     "execution_count": 67,
     "metadata": {},
     "output_type": "execute_result"
    }
   ],
   "source": [
    "X_train.head()"
   ]
  },
  {
   "cell_type": "code",
   "execution_count": 68,
   "id": "3cc616cb",
   "metadata": {},
   "outputs": [
    {
     "data": {
      "text/html": [
       "<div>\n",
       "<style scoped>\n",
       "    .dataframe tbody tr th:only-of-type {\n",
       "        vertical-align: middle;\n",
       "    }\n",
       "\n",
       "    .dataframe tbody tr th {\n",
       "        vertical-align: top;\n",
       "    }\n",
       "\n",
       "    .dataframe thead th {\n",
       "        text-align: right;\n",
       "    }\n",
       "</style>\n",
       "<table border=\"1\" class=\"dataframe\">\n",
       "  <thead>\n",
       "    <tr style=\"text-align: right;\">\n",
       "      <th></th>\n",
       "      <th>date_time</th>\n",
       "      <th>deg_C</th>\n",
       "      <th>relative_humidity</th>\n",
       "      <th>absolute_humidity</th>\n",
       "      <th>sensor_1</th>\n",
       "      <th>sensor_2</th>\n",
       "      <th>sensor_3</th>\n",
       "      <th>sensor_4</th>\n",
       "      <th>sensor_5</th>\n",
       "    </tr>\n",
       "  </thead>\n",
       "  <tbody>\n",
       "    <tr>\n",
       "      <th>7105</th>\n",
       "      <td>1.293822e+09</td>\n",
       "      <td>9.1</td>\n",
       "      <td>34.3</td>\n",
       "      <td>0.3958</td>\n",
       "      <td>957.9</td>\n",
       "      <td>741.9</td>\n",
       "      <td>970.3</td>\n",
       "      <td>915.1</td>\n",
       "      <td>866.0</td>\n",
       "    </tr>\n",
       "    <tr>\n",
       "      <th>7106</th>\n",
       "      <td>1.293826e+09</td>\n",
       "      <td>9.2</td>\n",
       "      <td>32.0</td>\n",
       "      <td>0.3871</td>\n",
       "      <td>1000.5</td>\n",
       "      <td>811.2</td>\n",
       "      <td>873.0</td>\n",
       "      <td>909.0</td>\n",
       "      <td>910.5</td>\n",
       "    </tr>\n",
       "    <tr>\n",
       "      <th>7107</th>\n",
       "      <td>1.293829e+09</td>\n",
       "      <td>9.1</td>\n",
       "      <td>33.2</td>\n",
       "      <td>0.3766</td>\n",
       "      <td>1022.7</td>\n",
       "      <td>790.0</td>\n",
       "      <td>951.6</td>\n",
       "      <td>912.9</td>\n",
       "      <td>903.4</td>\n",
       "    </tr>\n",
       "    <tr>\n",
       "      <th>7108</th>\n",
       "      <td>1.293833e+09</td>\n",
       "      <td>9.6</td>\n",
       "      <td>34.6</td>\n",
       "      <td>0.4310</td>\n",
       "      <td>1044.4</td>\n",
       "      <td>767.3</td>\n",
       "      <td>861.9</td>\n",
       "      <td>889.2</td>\n",
       "      <td>1159.1</td>\n",
       "    </tr>\n",
       "    <tr>\n",
       "      <th>7109</th>\n",
       "      <td>1.293836e+09</td>\n",
       "      <td>8.0</td>\n",
       "      <td>40.7</td>\n",
       "      <td>0.4085</td>\n",
       "      <td>952.8</td>\n",
       "      <td>691.9</td>\n",
       "      <td>908.5</td>\n",
       "      <td>917.0</td>\n",
       "      <td>1206.3</td>\n",
       "    </tr>\n",
       "  </tbody>\n",
       "</table>\n",
       "</div>"
      ],
      "text/plain": [
       "         date_time  deg_C  relative_humidity  absolute_humidity  sensor_1  \\\n",
       "7105  1.293822e+09    9.1               34.3             0.3958     957.9   \n",
       "7106  1.293826e+09    9.2               32.0             0.3871    1000.5   \n",
       "7107  1.293829e+09    9.1               33.2             0.3766    1022.7   \n",
       "7108  1.293833e+09    9.6               34.6             0.4310    1044.4   \n",
       "7109  1.293836e+09    8.0               40.7             0.4085     952.8   \n",
       "\n",
       "      sensor_2  sensor_3  sensor_4  sensor_5  \n",
       "7105     741.9     970.3     915.1     866.0  \n",
       "7106     811.2     873.0     909.0     910.5  \n",
       "7107     790.0     951.6     912.9     903.4  \n",
       "7108     767.3     861.9     889.2    1159.1  \n",
       "7109     691.9     908.5     917.0    1206.3  "
      ]
     },
     "execution_count": 68,
     "metadata": {},
     "output_type": "execute_result"
    }
   ],
   "source": [
    "X_train.tail()"
   ]
  },
  {
   "cell_type": "code",
   "execution_count": 69,
   "id": "eafcea40",
   "metadata": {},
   "outputs": [
    {
     "data": {
      "text/plain": [
       "(7110, 9)"
      ]
     },
     "execution_count": 69,
     "metadata": {},
     "output_type": "execute_result"
    }
   ],
   "source": [
    "X_train.shape"
   ]
  },
  {
   "cell_type": "code",
   "execution_count": 70,
   "id": "f82b6855",
   "metadata": {},
   "outputs": [
    {
     "data": {
      "text/html": [
       "<div>\n",
       "<style scoped>\n",
       "    .dataframe tbody tr th:only-of-type {\n",
       "        vertical-align: middle;\n",
       "    }\n",
       "\n",
       "    .dataframe tbody tr th {\n",
       "        vertical-align: top;\n",
       "    }\n",
       "\n",
       "    .dataframe thead th {\n",
       "        text-align: right;\n",
       "    }\n",
       "</style>\n",
       "<table border=\"1\" class=\"dataframe\">\n",
       "  <thead>\n",
       "    <tr style=\"text-align: right;\">\n",
       "      <th></th>\n",
       "      <th>date_time</th>\n",
       "      <th>deg_C</th>\n",
       "      <th>relative_humidity</th>\n",
       "      <th>absolute_humidity</th>\n",
       "      <th>sensor_1</th>\n",
       "      <th>sensor_2</th>\n",
       "      <th>sensor_3</th>\n",
       "      <th>sensor_4</th>\n",
       "      <th>sensor_5</th>\n",
       "    </tr>\n",
       "  </thead>\n",
       "  <tbody>\n",
       "    <tr>\n",
       "      <th>7110</th>\n",
       "      <td>1.293840e+09</td>\n",
       "      <td>8.0</td>\n",
       "      <td>41.3</td>\n",
       "      <td>0.4375</td>\n",
       "      <td>1108.8</td>\n",
       "      <td>745.7</td>\n",
       "      <td>797.1</td>\n",
       "      <td>880.0</td>\n",
       "      <td>1273.1</td>\n",
       "    </tr>\n",
       "    <tr>\n",
       "      <th>7111</th>\n",
       "      <td>1.293844e+09</td>\n",
       "      <td>5.1</td>\n",
       "      <td>51.7</td>\n",
       "      <td>0.4564</td>\n",
       "      <td>1249.5</td>\n",
       "      <td>864.9</td>\n",
       "      <td>687.9</td>\n",
       "      <td>972.8</td>\n",
       "      <td>1714.0</td>\n",
       "    </tr>\n",
       "    <tr>\n",
       "      <th>7112</th>\n",
       "      <td>1.293847e+09</td>\n",
       "      <td>5.8</td>\n",
       "      <td>51.5</td>\n",
       "      <td>0.4689</td>\n",
       "      <td>1102.6</td>\n",
       "      <td>878.0</td>\n",
       "      <td>693.7</td>\n",
       "      <td>941.9</td>\n",
       "      <td>1300.8</td>\n",
       "    </tr>\n",
       "    <tr>\n",
       "      <th>7113</th>\n",
       "      <td>1.293851e+09</td>\n",
       "      <td>5.0</td>\n",
       "      <td>52.3</td>\n",
       "      <td>0.4693</td>\n",
       "      <td>1139.7</td>\n",
       "      <td>916.2</td>\n",
       "      <td>725.6</td>\n",
       "      <td>1011.0</td>\n",
       "      <td>1283.0</td>\n",
       "    </tr>\n",
       "    <tr>\n",
       "      <th>7114</th>\n",
       "      <td>1.293854e+09</td>\n",
       "      <td>4.5</td>\n",
       "      <td>57.5</td>\n",
       "      <td>0.4650</td>\n",
       "      <td>1022.4</td>\n",
       "      <td>838.5</td>\n",
       "      <td>871.5</td>\n",
       "      <td>967.0</td>\n",
       "      <td>1142.3</td>\n",
       "    </tr>\n",
       "  </tbody>\n",
       "</table>\n",
       "</div>"
      ],
      "text/plain": [
       "         date_time  deg_C  relative_humidity  absolute_humidity  sensor_1  \\\n",
       "7110  1.293840e+09    8.0               41.3             0.4375    1108.8   \n",
       "7111  1.293844e+09    5.1               51.7             0.4564    1249.5   \n",
       "7112  1.293847e+09    5.8               51.5             0.4689    1102.6   \n",
       "7113  1.293851e+09    5.0               52.3             0.4693    1139.7   \n",
       "7114  1.293854e+09    4.5               57.5             0.4650    1022.4   \n",
       "\n",
       "      sensor_2  sensor_3  sensor_4  sensor_5  \n",
       "7110     745.7     797.1     880.0    1273.1  \n",
       "7111     864.9     687.9     972.8    1714.0  \n",
       "7112     878.0     693.7     941.9    1300.8  \n",
       "7113     916.2     725.6    1011.0    1283.0  \n",
       "7114     838.5     871.5     967.0    1142.3  "
      ]
     },
     "execution_count": 70,
     "metadata": {},
     "output_type": "execute_result"
    }
   ],
   "source": [
    "X_test.head()"
   ]
  },
  {
   "cell_type": "code",
   "execution_count": 71,
   "id": "c450fc15",
   "metadata": {},
   "outputs": [
    {
     "data": {
      "text/html": [
       "<div>\n",
       "<style scoped>\n",
       "    .dataframe tbody tr th:only-of-type {\n",
       "        vertical-align: middle;\n",
       "    }\n",
       "\n",
       "    .dataframe tbody tr th {\n",
       "        vertical-align: top;\n",
       "    }\n",
       "\n",
       "    .dataframe thead th {\n",
       "        text-align: right;\n",
       "    }\n",
       "</style>\n",
       "<table border=\"1\" class=\"dataframe\">\n",
       "  <thead>\n",
       "    <tr style=\"text-align: right;\">\n",
       "      <th></th>\n",
       "      <th>target_carbon_monoxide</th>\n",
       "      <th>target_benzene</th>\n",
       "      <th>target_nitrogen_oxides</th>\n",
       "    </tr>\n",
       "  </thead>\n",
       "  <tbody>\n",
       "    <tr>\n",
       "      <th>0</th>\n",
       "      <td>2.5</td>\n",
       "      <td>12.0</td>\n",
       "      <td>167.7</td>\n",
       "    </tr>\n",
       "    <tr>\n",
       "      <th>1</th>\n",
       "      <td>2.1</td>\n",
       "      <td>9.9</td>\n",
       "      <td>98.9</td>\n",
       "    </tr>\n",
       "    <tr>\n",
       "      <th>2</th>\n",
       "      <td>2.2</td>\n",
       "      <td>9.2</td>\n",
       "      <td>127.1</td>\n",
       "    </tr>\n",
       "    <tr>\n",
       "      <th>3</th>\n",
       "      <td>2.2</td>\n",
       "      <td>9.7</td>\n",
       "      <td>177.2</td>\n",
       "    </tr>\n",
       "    <tr>\n",
       "      <th>4</th>\n",
       "      <td>1.5</td>\n",
       "      <td>6.4</td>\n",
       "      <td>121.8</td>\n",
       "    </tr>\n",
       "    <tr>\n",
       "      <th>...</th>\n",
       "      <td>...</td>\n",
       "      <td>...</td>\n",
       "      <td>...</td>\n",
       "    </tr>\n",
       "    <tr>\n",
       "      <th>7105</th>\n",
       "      <td>1.2</td>\n",
       "      <td>4.9</td>\n",
       "      <td>211.0</td>\n",
       "    </tr>\n",
       "    <tr>\n",
       "      <th>7106</th>\n",
       "      <td>1.3</td>\n",
       "      <td>5.1</td>\n",
       "      <td>191.1</td>\n",
       "    </tr>\n",
       "    <tr>\n",
       "      <th>7107</th>\n",
       "      <td>1.4</td>\n",
       "      <td>5.8</td>\n",
       "      <td>221.3</td>\n",
       "    </tr>\n",
       "    <tr>\n",
       "      <th>7108</th>\n",
       "      <td>1.6</td>\n",
       "      <td>5.2</td>\n",
       "      <td>227.4</td>\n",
       "    </tr>\n",
       "    <tr>\n",
       "      <th>7109</th>\n",
       "      <td>1.5</td>\n",
       "      <td>4.6</td>\n",
       "      <td>199.8</td>\n",
       "    </tr>\n",
       "  </tbody>\n",
       "</table>\n",
       "<p>7110 rows × 3 columns</p>\n",
       "</div>"
      ],
      "text/plain": [
       "      target_carbon_monoxide  target_benzene  target_nitrogen_oxides\n",
       "0                        2.5            12.0                   167.7\n",
       "1                        2.1             9.9                    98.9\n",
       "2                        2.2             9.2                   127.1\n",
       "3                        2.2             9.7                   177.2\n",
       "4                        1.5             6.4                   121.8\n",
       "...                      ...             ...                     ...\n",
       "7105                     1.2             4.9                   211.0\n",
       "7106                     1.3             5.1                   191.1\n",
       "7107                     1.4             5.8                   221.3\n",
       "7108                     1.6             5.2                   227.4\n",
       "7109                     1.5             4.6                   199.8\n",
       "\n",
       "[7110 rows x 3 columns]"
      ]
     },
     "execution_count": 71,
     "metadata": {},
     "output_type": "execute_result"
    }
   ],
   "source": [
    "y_train"
   ]
  },
  {
   "cell_type": "code",
   "execution_count": 72,
   "id": "9c48f7b5",
   "metadata": {},
   "outputs": [],
   "source": [
    "y_train_log =np.log1p(y_train)"
   ]
  },
  {
   "cell_type": "code",
   "execution_count": 73,
   "id": "1360d9fa",
   "metadata": {},
   "outputs": [
    {
     "data": {
      "text/html": [
       "<div>\n",
       "<style scoped>\n",
       "    .dataframe tbody tr th:only-of-type {\n",
       "        vertical-align: middle;\n",
       "    }\n",
       "\n",
       "    .dataframe tbody tr th {\n",
       "        vertical-align: top;\n",
       "    }\n",
       "\n",
       "    .dataframe thead th {\n",
       "        text-align: right;\n",
       "    }\n",
       "</style>\n",
       "<table border=\"1\" class=\"dataframe\">\n",
       "  <thead>\n",
       "    <tr style=\"text-align: right;\">\n",
       "      <th></th>\n",
       "      <th>target_carbon_monoxide</th>\n",
       "      <th>target_benzene</th>\n",
       "      <th>target_nitrogen_oxides</th>\n",
       "    </tr>\n",
       "  </thead>\n",
       "  <tbody>\n",
       "    <tr>\n",
       "      <th>0</th>\n",
       "      <td>1.252763</td>\n",
       "      <td>2.564949</td>\n",
       "      <td>5.128122</td>\n",
       "    </tr>\n",
       "    <tr>\n",
       "      <th>1</th>\n",
       "      <td>1.131402</td>\n",
       "      <td>2.388763</td>\n",
       "      <td>4.604170</td>\n",
       "    </tr>\n",
       "    <tr>\n",
       "      <th>2</th>\n",
       "      <td>1.163151</td>\n",
       "      <td>2.322388</td>\n",
       "      <td>4.852811</td>\n",
       "    </tr>\n",
       "    <tr>\n",
       "      <th>3</th>\n",
       "      <td>1.163151</td>\n",
       "      <td>2.370244</td>\n",
       "      <td>5.182907</td>\n",
       "    </tr>\n",
       "    <tr>\n",
       "      <th>4</th>\n",
       "      <td>0.916291</td>\n",
       "      <td>2.001480</td>\n",
       "      <td>4.810557</td>\n",
       "    </tr>\n",
       "    <tr>\n",
       "      <th>...</th>\n",
       "      <td>...</td>\n",
       "      <td>...</td>\n",
       "      <td>...</td>\n",
       "    </tr>\n",
       "    <tr>\n",
       "      <th>7105</th>\n",
       "      <td>0.788457</td>\n",
       "      <td>1.774952</td>\n",
       "      <td>5.356586</td>\n",
       "    </tr>\n",
       "    <tr>\n",
       "      <th>7106</th>\n",
       "      <td>0.832909</td>\n",
       "      <td>1.808289</td>\n",
       "      <td>5.258016</td>\n",
       "    </tr>\n",
       "    <tr>\n",
       "      <th>7107</th>\n",
       "      <td>0.875469</td>\n",
       "      <td>1.916923</td>\n",
       "      <td>5.404028</td>\n",
       "    </tr>\n",
       "    <tr>\n",
       "      <th>7108</th>\n",
       "      <td>0.955511</td>\n",
       "      <td>1.824549</td>\n",
       "      <td>5.431098</td>\n",
       "    </tr>\n",
       "    <tr>\n",
       "      <th>7109</th>\n",
       "      <td>0.916291</td>\n",
       "      <td>1.722767</td>\n",
       "      <td>5.302309</td>\n",
       "    </tr>\n",
       "  </tbody>\n",
       "</table>\n",
       "<p>7110 rows × 3 columns</p>\n",
       "</div>"
      ],
      "text/plain": [
       "      target_carbon_monoxide  target_benzene  target_nitrogen_oxides\n",
       "0                   1.252763        2.564949                5.128122\n",
       "1                   1.131402        2.388763                4.604170\n",
       "2                   1.163151        2.322388                4.852811\n",
       "3                   1.163151        2.370244                5.182907\n",
       "4                   0.916291        2.001480                4.810557\n",
       "...                      ...             ...                     ...\n",
       "7105                0.788457        1.774952                5.356586\n",
       "7106                0.832909        1.808289                5.258016\n",
       "7107                0.875469        1.916923                5.404028\n",
       "7108                0.955511        1.824549                5.431098\n",
       "7109                0.916291        1.722767                5.302309\n",
       "\n",
       "[7110 rows x 3 columns]"
      ]
     },
     "execution_count": 73,
     "metadata": {},
     "output_type": "execute_result"
    }
   ],
   "source": [
    "y_train_log"
   ]
  },
  {
   "cell_type": "code",
   "execution_count": 74,
   "id": "df7ff9ce",
   "metadata": {},
   "outputs": [],
   "source": [
    "from sklearn.ensemble import RandomForestRegressor\n",
    "from sklearn.multioutput import MultiOutputRegressor"
   ]
  },
  {
   "cell_type": "code",
   "execution_count": 75,
   "id": "04839d43",
   "metadata": {},
   "outputs": [],
   "source": [
    "reg = RandomForestRegressor()"
   ]
  },
  {
   "cell_type": "code",
   "execution_count": 76,
   "id": "47f5b0c0",
   "metadata": {},
   "outputs": [],
   "source": [
    "model =  MultiOutputRegressor(reg).fit(X_train, y_train_log)"
   ]
  },
  {
   "cell_type": "code",
   "execution_count": 77,
   "id": "6149a081",
   "metadata": {},
   "outputs": [],
   "source": [
    "y_pred = model.predict(X_test)"
   ]
  },
  {
   "cell_type": "code",
   "execution_count": 78,
   "id": "d2c8d0c4",
   "metadata": {},
   "outputs": [],
   "source": [
    "y_pred = np.expm1(y_pred)"
   ]
  },
  {
   "cell_type": "code",
   "execution_count": 79,
   "id": "9d0c12d4",
   "metadata": {},
   "outputs": [
    {
     "data": {
      "text/plain": [
       "array([[  1.85879498,   5.21253511, 236.46469415],\n",
       "       [  2.38769542,   7.36300934, 280.88761557],\n",
       "       [  2.20482174,   7.39473545, 316.16734653],\n",
       "       ...,\n",
       "       [  2.45245584,  12.33235381, 374.9122981 ],\n",
       "       [  2.05890001,  11.16080333, 294.3564242 ],\n",
       "       [  2.08540362,  12.19145737, 291.28688215]])"
      ]
     },
     "execution_count": 79,
     "metadata": {},
     "output_type": "execute_result"
    }
   ],
   "source": [
    "y_pred"
   ]
  },
  {
   "cell_type": "code",
   "execution_count": 80,
   "id": "47a90ae1",
   "metadata": {},
   "outputs": [
    {
     "ename": "TypeError",
     "evalue": "cannot concatenate object of type '<class 'numpy.ndarray'>'; only Series and DataFrame objs are valid",
     "output_type": "error",
     "traceback": [
      "\u001b[1;31m---------------------------------------------------------------------------\u001b[0m",
      "\u001b[1;31mTypeError\u001b[0m                                 Traceback (most recent call last)",
      "\u001b[1;32m~\\AppData\\Local\\Temp/ipykernel_800/3563763370.py\u001b[0m in \u001b[0;36m<module>\u001b[1;34m\u001b[0m\n\u001b[0;32m      1\u001b[0m \u001b[0msub_df\u001b[0m\u001b[1;33m=\u001b[0m\u001b[0mpd\u001b[0m\u001b[1;33m.\u001b[0m\u001b[0mread_csv\u001b[0m\u001b[1;33m(\u001b[0m\u001b[1;34m'sample_submission.csv'\u001b[0m\u001b[1;33m)\u001b[0m\u001b[1;33m\u001b[0m\u001b[0m\n\u001b[1;32m----> 2\u001b[1;33m \u001b[0mdatasets\u001b[0m\u001b[1;33m=\u001b[0m\u001b[0mpd\u001b[0m\u001b[1;33m.\u001b[0m\u001b[0mconcat\u001b[0m\u001b[1;33m(\u001b[0m\u001b[1;33m[\u001b[0m\u001b[0msub_df\u001b[0m\u001b[1;33m[\u001b[0m\u001b[1;34m'date_time'\u001b[0m\u001b[1;33m]\u001b[0m\u001b[1;33m,\u001b[0m\u001b[0my_pred\u001b[0m\u001b[1;33m]\u001b[0m\u001b[1;33m,\u001b[0m\u001b[0maxis\u001b[0m\u001b[1;33m=\u001b[0m\u001b[1;36m1\u001b[0m\u001b[1;33m)\u001b[0m\u001b[1;33m\u001b[0m\u001b[0m\n\u001b[0m\u001b[0;32m      3\u001b[0m \u001b[0mdatasets\u001b[0m\u001b[1;33m.\u001b[0m\u001b[0mcolumns\u001b[0m\u001b[1;33m=\u001b[0m\u001b[1;33m[\u001b[0m\u001b[1;34m'date_time'\u001b[0m\u001b[1;33m,\u001b[0m\u001b[1;34m\"target_carbon_monoxide\"\u001b[0m\u001b[1;33m,\u001b[0m\u001b[1;34m\"target_benzene\"\u001b[0m\u001b[1;33m,\u001b[0m\u001b[1;34m\"target_nitrogen_oxides\"\u001b[0m\u001b[1;33m]\u001b[0m\u001b[1;33m\u001b[0m\u001b[0m\n\u001b[0;32m      4\u001b[0m \u001b[0mdatasets\u001b[0m\u001b[1;33m.\u001b[0m\u001b[0mto_csv\u001b[0m\u001b[1;33m(\u001b[0m\u001b[1;34m'sample_submission.csv'\u001b[0m\u001b[1;33m,\u001b[0m\u001b[0mindex\u001b[0m\u001b[1;33m=\u001b[0m\u001b[1;32mFalse\u001b[0m\u001b[1;33m)\u001b[0m\u001b[1;33m\u001b[0m\u001b[0m\n",
      "\u001b[1;32mc:\\users\\suraj\\anaconda3\\envs\\tabular_july\\lib\\site-packages\\pandas\\util\\_decorators.py\u001b[0m in \u001b[0;36mwrapper\u001b[1;34m(*args, **kwargs)\u001b[0m\n\u001b[0;32m    309\u001b[0m                     \u001b[0mstacklevel\u001b[0m\u001b[1;33m=\u001b[0m\u001b[0mstacklevel\u001b[0m\u001b[1;33m,\u001b[0m\u001b[1;33m\u001b[0m\u001b[0m\n\u001b[0;32m    310\u001b[0m                 )\n\u001b[1;32m--> 311\u001b[1;33m             \u001b[1;32mreturn\u001b[0m \u001b[0mfunc\u001b[0m\u001b[1;33m(\u001b[0m\u001b[1;33m*\u001b[0m\u001b[0margs\u001b[0m\u001b[1;33m,\u001b[0m \u001b[1;33m**\u001b[0m\u001b[0mkwargs\u001b[0m\u001b[1;33m)\u001b[0m\u001b[1;33m\u001b[0m\u001b[0m\n\u001b[0m\u001b[0;32m    312\u001b[0m \u001b[1;33m\u001b[0m\u001b[0m\n\u001b[0;32m    313\u001b[0m         \u001b[1;32mreturn\u001b[0m \u001b[0mwrapper\u001b[0m\u001b[1;33m\u001b[0m\u001b[0m\n",
      "\u001b[1;32mc:\\users\\suraj\\anaconda3\\envs\\tabular_july\\lib\\site-packages\\pandas\\core\\reshape\\concat.py\u001b[0m in \u001b[0;36mconcat\u001b[1;34m(objs, axis, join, ignore_index, keys, levels, names, verify_integrity, sort, copy)\u001b[0m\n\u001b[0;32m    302\u001b[0m         \u001b[0mverify_integrity\u001b[0m\u001b[1;33m=\u001b[0m\u001b[0mverify_integrity\u001b[0m\u001b[1;33m,\u001b[0m\u001b[1;33m\u001b[0m\u001b[0m\n\u001b[0;32m    303\u001b[0m         \u001b[0mcopy\u001b[0m\u001b[1;33m=\u001b[0m\u001b[0mcopy\u001b[0m\u001b[1;33m,\u001b[0m\u001b[1;33m\u001b[0m\u001b[0m\n\u001b[1;32m--> 304\u001b[1;33m         \u001b[0msort\u001b[0m\u001b[1;33m=\u001b[0m\u001b[0msort\u001b[0m\u001b[1;33m,\u001b[0m\u001b[1;33m\u001b[0m\u001b[0m\n\u001b[0m\u001b[0;32m    305\u001b[0m     )\n\u001b[0;32m    306\u001b[0m \u001b[1;33m\u001b[0m\u001b[0m\n",
      "\u001b[1;32mc:\\users\\suraj\\anaconda3\\envs\\tabular_july\\lib\\site-packages\\pandas\\core\\reshape\\concat.py\u001b[0m in \u001b[0;36m__init__\u001b[1;34m(self, objs, axis, join, keys, levels, names, ignore_index, verify_integrity, copy, sort)\u001b[0m\n\u001b[0;32m    382\u001b[0m                     \u001b[1;34m\"only Series and DataFrame objs are valid\"\u001b[0m\u001b[1;33m\u001b[0m\u001b[0m\n\u001b[0;32m    383\u001b[0m                 )\n\u001b[1;32m--> 384\u001b[1;33m                 \u001b[1;32mraise\u001b[0m \u001b[0mTypeError\u001b[0m\u001b[1;33m(\u001b[0m\u001b[0mmsg\u001b[0m\u001b[1;33m)\u001b[0m\u001b[1;33m\u001b[0m\u001b[0m\n\u001b[0m\u001b[0;32m    385\u001b[0m \u001b[1;33m\u001b[0m\u001b[0m\n\u001b[0;32m    386\u001b[0m             \u001b[0mndims\u001b[0m\u001b[1;33m.\u001b[0m\u001b[0madd\u001b[0m\u001b[1;33m(\u001b[0m\u001b[0mobj\u001b[0m\u001b[1;33m.\u001b[0m\u001b[0mndim\u001b[0m\u001b[1;33m)\u001b[0m\u001b[1;33m\u001b[0m\u001b[0m\n",
      "\u001b[1;31mTypeError\u001b[0m: cannot concatenate object of type '<class 'numpy.ndarray'>'; only Series and DataFrame objs are valid"
     ]
    }
   ],
   "source": [
    "sub_df=pd.read_csv('sample_submission.csv')\n",
    "datasets=pd.concat([sub_df['date_time'],y_pred],axis=1)\n",
    "datasets.columns=['date_time',\"target_carbon_monoxide\",\"target_benzene\",\"target_nitrogen_oxides\"]\n",
    "datasets.to_csv('sample_submission.csv',index=False)"
   ]
  },
  {
   "cell_type": "code",
   "execution_count": 81,
   "id": "6288ad8e",
   "metadata": {},
   "outputs": [],
   "source": [
    "df_submission = pd.read_csv(\"sample_submission.csv\")"
   ]
  },
  {
   "cell_type": "code",
   "execution_count": 82,
   "id": "5f1e21c9",
   "metadata": {},
   "outputs": [],
   "source": [
    "df_submission.drop([\"target_carbon_monoxide\",\"target_benzene\",\"target_nitrogen_oxides\"],axis=1,inplace=True)"
   ]
  },
  {
   "cell_type": "code",
   "execution_count": 83,
   "id": "d0c7d287",
   "metadata": {},
   "outputs": [],
   "source": [
    "df_submission[\"target_carbon_monoxide\"] = y_pred[:,0]"
   ]
  },
  {
   "cell_type": "code",
   "execution_count": 84,
   "id": "0bd2cc92",
   "metadata": {},
   "outputs": [],
   "source": [
    "df_submission[\"target_benzene\"] = y_pred[:,1]"
   ]
  },
  {
   "cell_type": "code",
   "execution_count": 85,
   "id": "0cfaaee2",
   "metadata": {},
   "outputs": [],
   "source": [
    "df_submission[\"target_nitrogen_oxides\"] = y_pred[:,2]"
   ]
  },
  {
   "cell_type": "code",
   "execution_count": 86,
   "id": "f8b3c55f",
   "metadata": {},
   "outputs": [
    {
     "data": {
      "text/html": [
       "<div>\n",
       "<style scoped>\n",
       "    .dataframe tbody tr th:only-of-type {\n",
       "        vertical-align: middle;\n",
       "    }\n",
       "\n",
       "    .dataframe tbody tr th {\n",
       "        vertical-align: top;\n",
       "    }\n",
       "\n",
       "    .dataframe thead th {\n",
       "        text-align: right;\n",
       "    }\n",
       "</style>\n",
       "<table border=\"1\" class=\"dataframe\">\n",
       "  <thead>\n",
       "    <tr style=\"text-align: right;\">\n",
       "      <th></th>\n",
       "      <th>date_time</th>\n",
       "      <th>target_carbon_monoxide</th>\n",
       "      <th>target_benzene</th>\n",
       "      <th>target_nitrogen_oxides</th>\n",
       "    </tr>\n",
       "  </thead>\n",
       "  <tbody>\n",
       "    <tr>\n",
       "      <th>0</th>\n",
       "      <td>2011-01-01 00:00:00</td>\n",
       "      <td>1.858795</td>\n",
       "      <td>5.212535</td>\n",
       "      <td>236.464694</td>\n",
       "    </tr>\n",
       "    <tr>\n",
       "      <th>1</th>\n",
       "      <td>2011-01-01 01:00:00</td>\n",
       "      <td>2.387695</td>\n",
       "      <td>7.363009</td>\n",
       "      <td>280.887616</td>\n",
       "    </tr>\n",
       "    <tr>\n",
       "      <th>2</th>\n",
       "      <td>2011-01-01 02:00:00</td>\n",
       "      <td>2.204822</td>\n",
       "      <td>7.394735</td>\n",
       "      <td>316.167347</td>\n",
       "    </tr>\n",
       "    <tr>\n",
       "      <th>3</th>\n",
       "      <td>2011-01-01 03:00:00</td>\n",
       "      <td>2.317906</td>\n",
       "      <td>8.513702</td>\n",
       "      <td>367.510624</td>\n",
       "    </tr>\n",
       "    <tr>\n",
       "      <th>4</th>\n",
       "      <td>2011-01-01 04:00:00</td>\n",
       "      <td>1.527850</td>\n",
       "      <td>6.847152</td>\n",
       "      <td>253.114557</td>\n",
       "    </tr>\n",
       "  </tbody>\n",
       "</table>\n",
       "</div>"
      ],
      "text/plain": [
       "             date_time  target_carbon_monoxide  target_benzene  \\\n",
       "0  2011-01-01 00:00:00                1.858795        5.212535   \n",
       "1  2011-01-01 01:00:00                2.387695        7.363009   \n",
       "2  2011-01-01 02:00:00                2.204822        7.394735   \n",
       "3  2011-01-01 03:00:00                2.317906        8.513702   \n",
       "4  2011-01-01 04:00:00                1.527850        6.847152   \n",
       "\n",
       "   target_nitrogen_oxides  \n",
       "0              236.464694  \n",
       "1              280.887616  \n",
       "2              316.167347  \n",
       "3              367.510624  \n",
       "4              253.114557  "
      ]
     },
     "execution_count": 86,
     "metadata": {},
     "output_type": "execute_result"
    }
   ],
   "source": [
    "df_submission.head()"
   ]
  },
  {
   "cell_type": "code",
   "execution_count": 87,
   "id": "8b3a4174",
   "metadata": {},
   "outputs": [
    {
     "data": {
      "text/plain": [
       "(2247, 4)"
      ]
     },
     "execution_count": 87,
     "metadata": {},
     "output_type": "execute_result"
    }
   ],
   "source": [
    "df_submission.shape"
   ]
  },
  {
   "cell_type": "code",
   "execution_count": 88,
   "id": "5114d7a0",
   "metadata": {},
   "outputs": [],
   "source": [
    "df_submission.to_csv('sample_submission6.csv',index=False)"
   ]
  },
  {
   "cell_type": "code",
   "execution_count": null,
   "id": "6269f859",
   "metadata": {},
   "outputs": [],
   "source": []
  },
  {
   "cell_type": "code",
   "execution_count": null,
   "id": "d9a25b87",
   "metadata": {},
   "outputs": [],
   "source": []
  },
  {
   "cell_type": "code",
   "execution_count": null,
   "id": "8aa6b303",
   "metadata": {},
   "outputs": [],
   "source": []
  },
  {
   "cell_type": "code",
   "execution_count": null,
   "id": "61cc4ab7",
   "metadata": {},
   "outputs": [],
   "source": [
    "df_train['date_time']= pd.to_datetime(df_train['date_time'])"
   ]
  },
  {
   "cell_type": "code",
   "execution_count": null,
   "id": "3837aca5",
   "metadata": {},
   "outputs": [],
   "source": [
    "df_test['date_time']= pd.to_datetime(df_test['date_time'])"
   ]
  },
  {
   "cell_type": "code",
   "execution_count": null,
   "id": "a19cd445",
   "metadata": {},
   "outputs": [],
   "source": [
    "df_train.info()"
   ]
  },
  {
   "cell_type": "code",
   "execution_count": null,
   "id": "402c0a1a",
   "metadata": {},
   "outputs": [],
   "source": []
  },
  {
   "cell_type": "code",
   "execution_count": null,
   "id": "27781681",
   "metadata": {},
   "outputs": [],
   "source": [
    "df_train1= create_ml_features(df_train.copy())"
   ]
  },
  {
   "cell_type": "code",
   "execution_count": null,
   "id": "42f86e47",
   "metadata": {},
   "outputs": [],
   "source": [
    "df_train1.reset_index(drop=False, inplace=True)"
   ]
  },
  {
   "cell_type": "code",
   "execution_count": null,
   "id": "1ca685d0",
   "metadata": {},
   "outputs": [],
   "source": [
    "df_train1.head()"
   ]
  },
  {
   "cell_type": "code",
   "execution_count": null,
   "id": "47107710",
   "metadata": {},
   "outputs": [],
   "source": [
    "df_train.info()"
   ]
  },
  {
   "cell_type": "code",
   "execution_count": null,
   "id": "f15245eb",
   "metadata": {},
   "outputs": [],
   "source": [
    "df_train1['date_time'] = df_train1['date_time'].view('datetime64[ns]').view(np.int64)/10**9\n"
   ]
  },
  {
   "cell_type": "code",
   "execution_count": null,
   "id": "d8a8d445",
   "metadata": {},
   "outputs": [],
   "source": [
    "df_train1.head()"
   ]
  },
  {
   "cell_type": "code",
   "execution_count": null,
   "id": "6c253b29",
   "metadata": {},
   "outputs": [],
   "source": [
    "X_train= df_train1.iloc[:5646,:]\n",
    "X_test = df_train1.iloc[5647:,:]"
   ]
  },
  {
   "cell_type": "code",
   "execution_count": null,
   "id": "10525a16",
   "metadata": {},
   "outputs": [],
   "source": [
    "len(X_train),len(X_test)"
   ]
  },
  {
   "cell_type": "code",
   "execution_count": null,
   "id": "d4992a31",
   "metadata": {},
   "outputs": [],
   "source": [
    "df_train.columns"
   ]
  },
  {
   "cell_type": "code",
   "execution_count": null,
   "id": "5a07fd6b",
   "metadata": {},
   "outputs": [],
   "source": [
    "y = df_train.iloc[:,8:].copy()"
   ]
  },
  {
   "cell_type": "code",
   "execution_count": null,
   "id": "14ec2c9b",
   "metadata": {},
   "outputs": [],
   "source": [
    "y.reset_index(drop=True, inplace=True)"
   ]
  },
  {
   "cell_type": "code",
   "execution_count": null,
   "id": "3e8f7203",
   "metadata": {},
   "outputs": [],
   "source": [
    "y.drop('date_time',axis=1,inplace=True)"
   ]
  },
  {
   "cell_type": "code",
   "execution_count": null,
   "id": "3a54981a",
   "metadata": {},
   "outputs": [],
   "source": [
    "y_log= np.log1p(y)"
   ]
  },
  {
   "cell_type": "code",
   "execution_count": null,
   "id": "c0700f54",
   "metadata": {},
   "outputs": [],
   "source": [
    "y_log_train = y_log[:5646]\n",
    "y_log_test = y_log[5647:]"
   ]
  },
  {
   "cell_type": "code",
   "execution_count": null,
   "id": "b0379230",
   "metadata": {},
   "outputs": [],
   "source": [
    "len(y_log_train)"
   ]
  },
  {
   "cell_type": "code",
   "execution_count": null,
   "id": "a7f8c1c1",
   "metadata": {},
   "outputs": [],
   "source": [
    "from sklearn.ensemble import RandomForestRegressor\n",
    "from sklearn.multioutput import MultiOutputRegressor"
   ]
  },
  {
   "cell_type": "code",
   "execution_count": null,
   "id": "87122baf",
   "metadata": {},
   "outputs": [],
   "source": [
    "y_log_train"
   ]
  },
  {
   "cell_type": "code",
   "execution_count": null,
   "id": "fb9dca26",
   "metadata": {},
   "outputs": [],
   "source": [
    "reg = RandomForestRegressor()"
   ]
  },
  {
   "cell_type": "code",
   "execution_count": null,
   "id": "77d59112",
   "metadata": {},
   "outputs": [],
   "source": [
    "model =  MultiOutputRegressor(reg).fit(X_train, y_log_train)"
   ]
  },
  {
   "cell_type": "code",
   "execution_count": null,
   "id": "ddee5c42",
   "metadata": {},
   "outputs": [],
   "source": [
    "y_pred=model.predict(X_test)"
   ]
  },
  {
   "cell_type": "code",
   "execution_count": null,
   "id": "b8da8427",
   "metadata": {},
   "outputs": [],
   "source": [
    "y_pred = np.expm1(y_pred)"
   ]
  },
  {
   "cell_type": "code",
   "execution_count": null,
   "id": "6813f04b",
   "metadata": {},
   "outputs": [],
   "source": [
    "y_test = np.expm1(y_log_test)"
   ]
  },
  {
   "cell_type": "code",
   "execution_count": null,
   "id": "a24b34ff",
   "metadata": {},
   "outputs": [],
   "source": [
    "def mean_absolute_percentage_error(y_true, y_pred): \n",
    "    \"\"\"Calculates MAPE given y_true and y_pred\"\"\"\n",
    "    y_true, y_pred = np.array(y_true), np.array(y_pred)\n",
    "    return np.mean(np.abs((y_true - y_pred) / y_true)) * 100"
   ]
  },
  {
   "cell_type": "code",
   "execution_count": null,
   "id": "11f0d817",
   "metadata": {},
   "outputs": [],
   "source": [
    "mean_absolute_percentage_error(y_test, y_pred)"
   ]
  },
  {
   "cell_type": "code",
   "execution_count": null,
   "id": "cbc91582",
   "metadata": {},
   "outputs": [],
   "source": [
    "\n",
    "y_test['target_carbon_monoxide']"
   ]
  },
  {
   "cell_type": "code",
   "execution_count": null,
   "id": "89ae9a57",
   "metadata": {},
   "outputs": [],
   "source": [
    "df_train2= create_ml_features(df_train.copy())\n",
    "df_test2= create_ml_features(df_test.copy())"
   ]
  },
  {
   "cell_type": "code",
   "execution_count": null,
   "id": "95996593",
   "metadata": {},
   "outputs": [],
   "source": [
    "df_train2"
   ]
  },
  {
   "cell_type": "code",
   "execution_count": null,
   "id": "97bf85c3",
   "metadata": {},
   "outputs": [],
   "source": [
    "df_train2.reset_index(drop=False, inplace=True)\n",
    "df_test2.reset_index(drop=False, inplace=True)"
   ]
  },
  {
   "cell_type": "code",
   "execution_count": null,
   "id": "0b529b61",
   "metadata": {},
   "outputs": [],
   "source": [
    "df_train2['date_time'] = df_train2['date_time'].astype('datetime64[ns]').astype(np.int64)/10**5\n",
    "df_test2['date_time'] = df_test2['date_time'].astype('datetime64[ns]').astype(np.int64)/10**5"
   ]
  },
  {
   "cell_type": "code",
   "execution_count": null,
   "id": "c3af6a43",
   "metadata": {},
   "outputs": [],
   "source": [
    "df_train2.shape"
   ]
  },
  {
   "cell_type": "code",
   "execution_count": null,
   "id": "aa1ae8ad",
   "metadata": {},
   "outputs": [],
   "source": [
    "df_test2.shape"
   ]
  },
  {
   "cell_type": "code",
   "execution_count": null,
   "id": "62c4709f",
   "metadata": {},
   "outputs": [],
   "source": [
    "df_train.drop(df_train.tail(1).index,inplace=True)"
   ]
  },
  {
   "cell_type": "code",
   "execution_count": null,
   "id": "31a33afc",
   "metadata": {},
   "outputs": [],
   "source": [
    "df_test.shape"
   ]
  },
  {
   "cell_type": "code",
   "execution_count": null,
   "id": "aeba228f",
   "metadata": {},
   "outputs": [],
   "source": []
  },
  {
   "cell_type": "code",
   "execution_count": null,
   "id": "98190052",
   "metadata": {},
   "outputs": [],
   "source": []
  },
  {
   "cell_type": "code",
   "execution_count": null,
   "id": "4af3160b",
   "metadata": {},
   "outputs": [],
   "source": [
    "X_train = df_train2.iloc[:,:]\n",
    "y_train =df_train.iloc[:,8:].copy()\n",
    "X_test = df_test2.iloc[:,:]\n"
   ]
  },
  {
   "cell_type": "code",
   "execution_count": null,
   "id": "036b2efe",
   "metadata": {},
   "outputs": [],
   "source": [
    "X_train.shape"
   ]
  },
  {
   "cell_type": "code",
   "execution_count": null,
   "id": "e3785a9b",
   "metadata": {},
   "outputs": [],
   "source": [
    "y_train.shape"
   ]
  },
  {
   "cell_type": "code",
   "execution_count": null,
   "id": "791deba6",
   "metadata": {},
   "outputs": [],
   "source": [
    "y_train.reset_index(drop=True, inplace=True)"
   ]
  },
  {
   "cell_type": "code",
   "execution_count": null,
   "id": "8f291c84",
   "metadata": {},
   "outputs": [],
   "source": []
  },
  {
   "cell_type": "code",
   "execution_count": null,
   "id": "775f7e14",
   "metadata": {},
   "outputs": [],
   "source": [
    "X_test.shape"
   ]
  },
  {
   "cell_type": "code",
   "execution_count": null,
   "id": "a32ba424",
   "metadata": {},
   "outputs": [],
   "source": [
    "df_train2"
   ]
  },
  {
   "cell_type": "code",
   "execution_count": null,
   "id": "be4a9349",
   "metadata": {},
   "outputs": [],
   "source": [
    "X_train"
   ]
  },
  {
   "cell_type": "code",
   "execution_count": null,
   "id": "f01d3784",
   "metadata": {},
   "outputs": [],
   "source": [
    "y_train"
   ]
  },
  {
   "cell_type": "code",
   "execution_count": null,
   "id": "473ffa14",
   "metadata": {},
   "outputs": [],
   "source": [
    "X_test"
   ]
  },
  {
   "cell_type": "code",
   "execution_count": null,
   "id": "8dade5ad",
   "metadata": {},
   "outputs": [],
   "source": [
    "df_train2.columns"
   ]
  },
  {
   "cell_type": "code",
   "execution_count": null,
   "id": "74c36292",
   "metadata": {},
   "outputs": [],
   "source": [
    "df_test2.columns"
   ]
  },
  {
   "cell_type": "code",
   "execution_count": null,
   "id": "7a4d9eb0",
   "metadata": {},
   "outputs": [],
   "source": [
    "y_train_log = np.log1p(y_train)"
   ]
  },
  {
   "cell_type": "code",
   "execution_count": null,
   "id": "c6ebebfc",
   "metadata": {},
   "outputs": [],
   "source": [
    "y_train_log"
   ]
  },
  {
   "cell_type": "code",
   "execution_count": null,
   "id": "b5d8a43f",
   "metadata": {},
   "outputs": [],
   "source": [
    "model1 =   MultiOutputRegressor(reg).fit(X_train, y_train_log)"
   ]
  },
  {
   "cell_type": "code",
   "execution_count": null,
   "id": "666ab2bc",
   "metadata": {},
   "outputs": [],
   "source": [
    "y_train_log['target_carbon_monoxide']"
   ]
  },
  {
   "cell_type": "code",
   "execution_count": null,
   "id": "6373aca1",
   "metadata": {},
   "outputs": [],
   "source": [
    "X_train"
   ]
  },
  {
   "cell_type": "code",
   "execution_count": null,
   "id": "0691f19f",
   "metadata": {},
   "outputs": [],
   "source": [
    "X_test"
   ]
  },
  {
   "cell_type": "code",
   "execution_count": null,
   "id": "7ab851b5",
   "metadata": {},
   "outputs": [],
   "source": [
    "X_train['date_time']"
   ]
  },
  {
   "cell_type": "code",
   "execution_count": null,
   "id": "6f8fe4fa",
   "metadata": {},
   "outputs": [],
   "source": [
    "X_test.info()"
   ]
  },
  {
   "cell_type": "code",
   "execution_count": null,
   "id": "3503b99f",
   "metadata": {},
   "outputs": [],
   "source": [
    "X_test['date_time'].astype"
   ]
  },
  {
   "cell_type": "code",
   "execution_count": 44,
   "id": "8fdd7edd",
   "metadata": {},
   "outputs": [
    {
     "data": {
      "text/plain": [
       "False"
      ]
     },
     "execution_count": 44,
     "metadata": {},
     "output_type": "execute_result"
    }
   ],
   "source": [
    "np.any(np.isnan(y_train))"
   ]
  },
  {
   "cell_type": "code",
   "execution_count": null,
   "id": "939bee45",
   "metadata": {},
   "outputs": [],
   "source": [
    "y_pred = model1.predict(X_test)"
   ]
  },
  {
   "cell_type": "code",
   "execution_count": null,
   "id": "6aa26f90",
   "metadata": {},
   "outputs": [],
   "source": [
    "import numpy.distutils.system_info as sysinfo\n",
    "sysinfo.platform_bits\n",
    "    "
   ]
  },
  {
   "cell_type": "code",
   "execution_count": null,
   "id": "28f7ceea",
   "metadata": {},
   "outputs": [],
   "source": [
    "import sklearn.distutils.system_info as sysinfo\n",
    "sysinfo.platform_bits\n",
    "    "
   ]
  }
 ],
 "metadata": {
  "kernelspec": {
   "display_name": "Python 3 (ipykernel)",
   "language": "python",
   "name": "python3"
  },
  "language_info": {
   "codemirror_mode": {
    "name": "ipython",
    "version": 3
   },
   "file_extension": ".py",
   "mimetype": "text/x-python",
   "name": "python",
   "nbconvert_exporter": "python",
   "pygments_lexer": "ipython3",
   "version": "3.7.0"
  }
 },
 "nbformat": 4,
 "nbformat_minor": 5
}
